{
 "cells": [
  {
   "cell_type": "code",
   "execution_count": null,
   "metadata": {},
   "outputs": [],
   "source": [
    "import json\n",
    "from bertopic import BERTopic\n",
    "\n",
    "# Load your JSON data\n",
    "with open('../pre_processed_data_non_english_removed.json', 'r') as file:\n",
    "    data = json.load(file)\n",
    "\n",
    "# Initialize BERTopic with nr_topics set to 'auto'\n",
    "model = BERTopic(nr_topics=17)\n",
    "\n",
    "# Fit the model and transform your data to topics\n",
    "topics, probs = model.fit_transform(data)\n",
    "\n",
    "# Check the number of topics after merging\n",
    "final_topics = set(model.get_topics().keys())\n",
    "print(f\"Final number of topics: {len(final_topics)}\")"
   ]
  },
  {
   "cell_type": "code",
   "execution_count": null,
   "metadata": {},
   "outputs": [],
   "source": [
    "# Get the number of unique topics\n",
    "unique_topics = set(topics) - {-1}  # Exclude -1 if it's there (it's the outlier topic)\n",
    "topic_names = model.get_topic_info().Name\n",
    "\n",
    "# Iterate through each unique topic and get its keywords\n",
    "for topic in unique_topics:\n",
    "    topic_info = model.get_topic(topic)\n",
    "    \n",
    "    # Check if topic_info is not None and extract keywords\n",
    "    if topic_info:\n",
    "        keywords = [word for word, _ in topic_info]\n",
    "\n",
    "        print(f\"Topic {topic_names[topic + 1]}:\")\n",
    "        print(\"Keywords:\", keywords)\n",
    "        print(\"----------\")\n",
    "    else:\n",
    "        print(f\"Topic {topic} has no keywords.\")"
   ]
  },
  {
   "cell_type": "code",
   "execution_count": null,
   "metadata": {},
   "outputs": [],
   "source": [
    "model.get_topic_freq()"
   ]
  },
  {
   "cell_type": "code",
   "execution_count": null,
   "metadata": {},
   "outputs": [],
   "source": [
    "model.get_topic_info()"
   ]
  },
  {
   "cell_type": "code",
   "execution_count": null,
   "metadata": {},
   "outputs": [],
   "source": [
    "topic_names = model.get_topic_info().Name\n",
    "\n",
    "for doc, topic in zip(data, topics):\n",
    "    print(\"Document:\", doc)\n",
    "    print(\"Assigned Topic:\", topic_names[topic + 1])\n",
    "    print(\"----------\")"
   ]
  },
  {
   "cell_type": "code",
   "execution_count": null,
   "metadata": {},
   "outputs": [],
   "source": [
    "import csv\n",
    "\n",
    "# Retrieve topic information\n",
    "topic_info = model.get_topic_info()\n",
    "topic_names = model.get_topic_info().Name\n",
    "\n",
    "# Get the number of unique topics\n",
    "unique_topics = set(topics) - {-1}  # Exclude -1 if it's there (it's the outlier topic)\n",
    "counts = model.get_topic_info()['Count']\n",
    "\n",
    "# Open a CSV file to save the data\n",
    "with open('non_english/top_info_counts_per_topic.csv', 'w', newline='', encoding='utf-8') as file:\n",
    "    writer = csv.writer(file)\n",
    "    writer.writerow([\"Topic\", \"Topic Count\", \"Keywords\", \"Document\"])\n",
    "    \n",
    "    # Iterate through each topic\n",
    "    for topic in unique_topics:\n",
    "        topic_info = model.get_topic(topic)\n",
    "        count = counts[topic + 1]\n",
    "    \n",
    "        # Check if topic_info is not None and extract keywords\n",
    "        if topic_info:\n",
    "            keywords = [word for word, _ in topic_info]\n",
    "            print(f\"Topic {topic_names[topic + 1]}:\")\n",
    "            print(\"Keywords:\", keywords)\n",
    "            print(\"----------\")\n",
    "        else:\n",
    "            print(f\"Topic {topic} has no keywords.\")\n",
    "            continue\n",
    "\n",
    "        # Get documents for each topic\n",
    "        doc_indices = [i for i, t in enumerate(topics) if t == topic]\n",
    "        documents = [data[i] for i in doc_indices]\n",
    "\n",
    "        # If fewer than 10 documents, repeat them until we have 10\n",
    "        while len(documents) < 10:\n",
    "            documents.extend(documents)\n",
    "\n",
    "        # Write the top 10 (or fewer if not available) documents to CSV\n",
    "        for doc in documents[:10]:\n",
    "            writer.writerow([topic_names[topic + 1], count, keywords, doc])\n",
    "\n",
    "print(\"Data saved to top_documents_per_topic.csv\")"
   ]
  }
 ],
 "metadata": {
  "kernelspec": {
   "display_name": "Python 3",
   "language": "python",
   "name": "python3"
  },
  "language_info": {
   "codemirror_mode": {
    "name": "ipython",
    "version": 3
   },
   "file_extension": ".py",
   "mimetype": "text/x-python",
   "name": "python",
   "nbconvert_exporter": "python",
   "pygments_lexer": "ipython3",
   "version": "3.11.5"
  }
 },
 "nbformat": 4,
 "nbformat_minor": 2
}
